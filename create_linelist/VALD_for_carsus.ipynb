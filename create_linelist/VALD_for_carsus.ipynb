{
 "cells": [
  {
   "cell_type": "code",
   "execution_count": 1,
   "metadata": {},
   "outputs": [],
   "source": [
    "import pandas as pd\n",
    "import numpy as np\n",
    "from tqdm import tqdm"
   ]
  },
  {
   "cell_type": "code",
   "execution_count": 15,
   "metadata": {},
   "outputs": [],
   "source": [
    "## num_lines = sum(1 for line in tqdm(open('darach_data.lin')))\n",
    "# print(num_lines)\n",
    "# num_lines = 623161873"
   ]
  },
  {
   "cell_type": "code",
   "execution_count": 3,
   "metadata": {},
   "outputs": [],
   "source": [
    "#print((vdat[vdat[0]==' BIBTEX ERROR: Line list contains a key not found in VALD3 BibTeX file: IST10  ']))"
   ]
  },
  {
   "cell_type": "code",
   "execution_count": 4,
   "metadata": {},
   "outputs": [
    {
     "name": "stdout",
     "output_type": "stream",
     "text": [
      "1/6 - Data imported\n"
     ]
    }
   ],
   "source": [
    "vdat = pd.read_csv('darach_data.lin', skiprows=594129240, nrows=29032460, header=None, skip_blank_lines=False, dtype=str)\n",
    "print('1/6 - Data imported')"
   ]
  },
  {
   "cell_type": "code",
   "execution_count": 6,
   "metadata": {},
   "outputs": [
    {
     "name": "stdout",
     "output_type": "stream",
     "text": [
      "2/6 - Data sorted\n"
     ]
    }
   ],
   "source": [
    "vdat = vdat.drop(13,axis=1)\n",
    "vdatc = vdat.copy()\n",
    "vdat = vdat[vdat[12].notna()]\n",
    "#vdat = vdat[0:100000]\n",
    "vdat = vdat.reset_index(drop=True)\n",
    "#pd.options.display.max_rows = len(vdat[0])\n",
    "#vdat\n",
    "print('2/6 - Data sorted')"
   ]
  },
  {
   "cell_type": "code",
   "execution_count": 7,
   "metadata": {},
   "outputs": [
    {
     "name": "stdout",
     "output_type": "stream",
     "text": [
      "3/6 - Elements done\n"
     ]
    }
   ],
   "source": [
    "el_list = pd.read_csv('elements.txt',delimiter=' ',header=None)\n",
    "numbers = range(len(el_list[0])+1)\n",
    "el_dict = dict(zip(el_list[0], numbers[1:]))\n",
    "\n",
    "el = vdat[0].str.split(\" \", n = 1, expand = True)\n",
    "el[0] = el[0].replace({'\\'':''}, regex=True)\n",
    "\n",
    "for k,v in el_dict.items():\n",
    "    el[0][el[0] == k] = v\n",
    "\n",
    "# for i in tqdm(range(len(el[0]))):\n",
    "#     e = el[0][i]\n",
    "#     if e in el_dict:\n",
    "#         el[0][i] = el_dict[e]\n",
    "#     else:\n",
    "#         el[0][i] = 0\n",
    "\n",
    "el[1] = (el[1].replace({'\\'':''}, regex=True).astype(int) - 1).apply(lambda x: '{0:0>2}'.format(x))\n",
    "elm = el[0].map(str) + '.' + el[1].map(str)\n",
    "\n",
    "print('3/6 - Elements done')"
   ]
  },
  {
   "cell_type": "code",
   "execution_count": 8,
   "metadata": {},
   "outputs": [
    {
     "name": "stdout",
     "output_type": "stream",
     "text": [
      "4/6 - Labels done\n"
     ]
    }
   ],
   "source": [
    "labels = vdatc.copy()\n",
    "labels = labels[~labels[12].notna()]#[0:300000]\n",
    "labels = pd.Series(labels.fillna('').values.tolist()).str.join(',')\n",
    "labels = labels.replace({',,+':''}, regex=True)\n",
    "labels = labels.replace({'\\'  ':''}, regex=True)\n",
    "labels = labels.replace({'\\'':''}, regex=True)\n",
    "labels = labels.replace({'  +':' '}, regex=True)\n",
    "\n",
    "label_l = labels.iloc[::3]\n",
    "label_l = label_l.reset_index(drop=True)\n",
    "label_u = labels.iloc[1::3]\n",
    "label_u = label_u.reset_index(drop=True)\n",
    "\n",
    "print('4/6 - Labels done')"
   ]
  },
  {
   "cell_type": "code",
   "execution_count": 9,
   "metadata": {},
   "outputs": [
    {
     "name": "stdout",
     "output_type": "stream",
     "text": [
      "5/6 - Dataframe created\n"
     ]
    }
   ],
   "source": [
    "wave = vdat[1].astype(float)\n",
    "log_gf = (vdat[2].astype(float))\n",
    "E_l = vdat[3].astype(float)\n",
    "j_l = vdat[4].astype(float).apply(lambda x: '{0:0>2}'.format(x))\n",
    "#label_l = pd.DataFrame(['2D' for s in range(len(vdat))])\n",
    "E_u = vdat[5].astype(float)\n",
    "j_u = vdat[6].astype(float).apply(lambda x: '{0:0>2}'.format(x))\n",
    "#label_u = pd.DataFrame(['2D' for s in range(len(vdat))])\n",
    "lande_l = vdat[7].astype(float)*1000\n",
    "lande_l = lande_l.replace(99000.0,0)\n",
    "lande_u = vdat[8].astype(float)*1000\n",
    "lande_u = lande_u.replace(99000.0,0)\n",
    "rad = vdat[10].astype(float)\n",
    "stark = vdat[11].astype(float)\n",
    "waals = vdat[12].astype(float)\n",
    "zeroes = pd.DataFrame(np.zeros((len(vdat), 1)))\n",
    "\n",
    "df_vald = pd.concat([wave, log_gf, elm, E_l, j_l, label_l, E_u, j_u, label_u, rad, stark, waals, zeroes, zeroes, zeroes, zeroes, zeroes, zeroes, zeroes, zeroes, lande_l, lande_u], axis=1)\n",
    "df_vald.columns = range(df_vald.shape[1])\n",
    "#df_vald\n",
    "print('5/6 - Dataframe created')"
   ]
  },
  {
   "cell_type": "code",
   "execution_count": 10,
   "metadata": {},
   "outputs": [
    {
     "data": {
      "text/html": [
       "<div>\n",
       "<style scoped>\n",
       "    .dataframe tbody tr th:only-of-type {\n",
       "        vertical-align: middle;\n",
       "    }\n",
       "\n",
       "    .dataframe tbody tr th {\n",
       "        vertical-align: top;\n",
       "    }\n",
       "\n",
       "    .dataframe thead th {\n",
       "        text-align: right;\n",
       "    }\n",
       "</style>\n",
       "<table border=\"1\" class=\"dataframe\">\n",
       "  <thead>\n",
       "    <tr style=\"text-align: right;\">\n",
       "      <th></th>\n",
       "      <th>0</th>\n",
       "      <th>1</th>\n",
       "      <th>2</th>\n",
       "      <th>3</th>\n",
       "      <th>4</th>\n",
       "      <th>5</th>\n",
       "      <th>6</th>\n",
       "      <th>7</th>\n",
       "      <th>8</th>\n",
       "      <th>9</th>\n",
       "      <th>...</th>\n",
       "      <th>12</th>\n",
       "      <th>13</th>\n",
       "      <th>14</th>\n",
       "      <th>15</th>\n",
       "      <th>16</th>\n",
       "      <th>17</th>\n",
       "      <th>18</th>\n",
       "      <th>19</th>\n",
       "      <th>20</th>\n",
       "      <th>21</th>\n",
       "    </tr>\n",
       "  </thead>\n",
       "  <tbody>\n",
       "    <tr>\n",
       "      <th>7258112</th>\n",
       "      <td>99999.0</td>\n",
       "      <td>-5.284</td>\n",
       "      <td>26.00</td>\n",
       "      <td>7.6070</td>\n",
       "      <td>5.0</td>\n",
       "      <td>JK s6h 2+[5+]*</td>\n",
       "      <td>7.6194</td>\n",
       "      <td>6.0</td>\n",
       "      <td>JK s7i 4+[6+]</td>\n",
       "      <td>6.37</td>\n",
       "      <td>...</td>\n",
       "      <td>0.0</td>\n",
       "      <td>0.0</td>\n",
       "      <td>0.0</td>\n",
       "      <td>0.0</td>\n",
       "      <td>0.0</td>\n",
       "      <td>0.0</td>\n",
       "      <td>0.0</td>\n",
       "      <td>0.0</td>\n",
       "      <td>1060.0</td>\n",
       "      <td>1120.0</td>\n",
       "    </tr>\n",
       "    <tr>\n",
       "      <th>7258113</th>\n",
       "      <td>99999.0</td>\n",
       "      <td>-5.216</td>\n",
       "      <td>26.00</td>\n",
       "      <td>7.6070</td>\n",
       "      <td>6.0</td>\n",
       "      <td>JK s6h 2+[5+]*</td>\n",
       "      <td>7.6194</td>\n",
       "      <td>7.0</td>\n",
       "      <td>r(5D)7I739</td>\n",
       "      <td>6.37</td>\n",
       "      <td>...</td>\n",
       "      <td>0.0</td>\n",
       "      <td>0.0</td>\n",
       "      <td>0.0</td>\n",
       "      <td>0.0</td>\n",
       "      <td>0.0</td>\n",
       "      <td>0.0</td>\n",
       "      <td>0.0</td>\n",
       "      <td>0.0</td>\n",
       "      <td>1210.0</td>\n",
       "      <td>1240.0</td>\n",
       "    </tr>\n",
       "    <tr>\n",
       "      <th>7258114</th>\n",
       "      <td>100000.0</td>\n",
       "      <td>-7.082</td>\n",
       "      <td>26.01</td>\n",
       "      <td>13.5204</td>\n",
       "      <td>6.5</td>\n",
       "      <td>LS 3d6.(3G).4d 2I</td>\n",
       "      <td>13.5328</td>\n",
       "      <td>6.5</td>\n",
       "      <td>LS 3d5.(2I).4s.4p.(3P*) 2I*</td>\n",
       "      <td>9.07</td>\n",
       "      <td>...</td>\n",
       "      <td>0.0</td>\n",
       "      <td>0.0</td>\n",
       "      <td>0.0</td>\n",
       "      <td>0.0</td>\n",
       "      <td>0.0</td>\n",
       "      <td>0.0</td>\n",
       "      <td>0.0</td>\n",
       "      <td>0.0</td>\n",
       "      <td>1080.0</td>\n",
       "      <td>1100.0</td>\n",
       "    </tr>\n",
       "  </tbody>\n",
       "</table>\n",
       "<p>3 rows × 22 columns</p>\n",
       "</div>"
      ],
      "text/plain": [
       "               0      1      2        3    4                  5        6   \\\n",
       "7258112   99999.0 -5.284  26.00   7.6070  5.0     JK s6h 2+[5+]*   7.6194   \n",
       "7258113   99999.0 -5.216  26.00   7.6070  6.0     JK s6h 2+[5+]*   7.6194   \n",
       "7258114  100000.0 -7.082  26.01  13.5204  6.5  LS 3d6.(3G).4d 2I  13.5328   \n",
       "\n",
       "          7                            8     9   ...   12   13   14   15   16  \\\n",
       "7258112  6.0                JK s7i 4+[6+]  6.37  ...  0.0  0.0  0.0  0.0  0.0   \n",
       "7258113  7.0                   r(5D)7I739  6.37  ...  0.0  0.0  0.0  0.0  0.0   \n",
       "7258114  6.5  LS 3d5.(2I).4s.4p.(3P*) 2I*  9.07  ...  0.0  0.0  0.0  0.0  0.0   \n",
       "\n",
       "          17   18   19      20      21  \n",
       "7258112  0.0  0.0  0.0  1060.0  1120.0  \n",
       "7258113  0.0  0.0  0.0  1210.0  1240.0  \n",
       "7258114  0.0  0.0  0.0  1080.0  1100.0  \n",
       "\n",
       "[3 rows x 22 columns]"
      ]
     },
     "execution_count": 10,
     "metadata": {},
     "output_type": "execute_result"
    }
   ],
   "source": [
    "df_vald.iloc[-3:]"
   ]
  },
  {
   "cell_type": "code",
   "execution_count": 11,
   "metadata": {},
   "outputs": [],
   "source": [
    "df_vald = df_vald[~(df_vald[2].astype(float)<1)]\n",
    "df_vald.to_csv('VALD_linelist32.dat', header=None, index=None)"
   ]
  },
  {
   "cell_type": "code",
   "execution_count": 12,
   "metadata": {},
   "outputs": [
    {
     "name": "stdout",
     "output_type": "stream",
     "text": [
      "6/6 - Line list ready\n"
     ]
    }
   ],
   "source": [
    "# with open('VALD_linelist1.dat', 'w') as f: \n",
    "#     df_vald.to_string(f, col_space=10, index=False, header=None)\n",
    "\n",
    "print('6/6 - Line list ready')"
   ]
  }
 ],
 "metadata": {
  "kernelspec": {
   "display_name": "Python 3",
   "language": "python",
   "name": "python3"
  },
  "language_info": {
   "codemirror_mode": {
    "name": "ipython",
    "version": 3
   },
   "file_extension": ".py",
   "mimetype": "text/x-python",
   "name": "python",
   "nbconvert_exporter": "python",
   "pygments_lexer": "ipython3",
   "version": "3.8.1"
  }
 },
 "nbformat": 4,
 "nbformat_minor": 4
}
