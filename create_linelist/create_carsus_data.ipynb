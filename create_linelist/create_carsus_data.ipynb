{
 "cells": [
  {
   "cell_type": "code",
   "execution_count": 1,
   "metadata": {},
   "outputs": [
    {
     "name": "stdout",
     "output_type": "stream",
     "text": [
      " ChiantiPy version 0.8.4 \n",
      " found PyQt5 widgets\n",
      " using PyQt5 widgets\n"
     ]
    }
   ],
   "source": [
    "from carsus.io.nist import NISTWeightsComp, NISTIonizationEnergies\n",
    "from carsus.io.kurucz import GFALLReader\n",
    "from carsus.io.zeta import KnoxLongZeta\n",
    "from carsus.io.chianti_ import ChiantiReader\n",
    "from carsus.io.output import TARDISAtomData\n",
    "\n",
    "import pandas as pd\n",
    "import numpy as np\n",
    "import matplotlib.pyplot as pl\n",
    "import h5py"
   ]
  },
  {
   "cell_type": "code",
   "execution_count": 2,
   "metadata": {},
   "outputs": [
    {
     "name": "stdout",
     "output_type": "stream",
     "text": [
      "[\u001b[1mcarsus.io.nist.weightscomp\u001b[0m][\u001b[1;37mINFO\u001b[0m] - Downloading data from the NIST Atomic Weights and Isotopic Compositions Database. (\u001b[1mweightscomp.py\u001b[0m:49)\n",
      "[\u001b[1m carsus.io.nist.ionization\u001b[0m][\u001b[1;37mINFO\u001b[0m] - Downloading ionization energies from the NIST Atomic Spectra Database. (\u001b[1mionization.py\u001b[0m:65)\n"
     ]
    }
   ],
   "source": [
    "atomic_weights = NISTWeightsComp('H-U')\n",
    "ionization_energies = NISTIonizationEnergies('H-U')"
   ]
  },
  {
   "cell_type": "code",
   "execution_count": 3,
   "metadata": {},
   "outputs": [
    {
     "name": "stdout",
     "output_type": "stream",
     "text": [
      "[\u001b[1m    carsus.io.kurucz.gfall\u001b[0m][\u001b[1;33mWARNING\u001b[0m] - A specific combination to identify unique levels from GFALL data has not been given. Defaulting to [\"energy\", \"j\"]. (\u001b[1mgfall.py\u001b[0m:86)\n"
     ]
    }
   ],
   "source": [
    "gfall_reader = GFALLReader(ions='H-Ta')\n",
    "#gfall_reader.to_hdf('gfall.h5')"
   ]
  },
  {
   "cell_type": "code",
   "execution_count": 4,
   "metadata": {},
   "outputs": [],
   "source": [
    "chianti_reader = ChiantiReader(ions='H-He', collisions=True, priority=20)\n",
    "#chianti_reader.to_hdf('chianti.h5')"
   ]
  },
  {
   "cell_type": "code",
   "execution_count": 5,
   "metadata": {},
   "outputs": [],
   "source": [
    "zeta_data = KnoxLongZeta()\n",
    "#zeta_data.to_hdf('zeta.h5')"
   ]
  },
  {
   "cell_type": "code",
   "execution_count": 6,
   "metadata": {},
   "outputs": [
    {
     "name": "stdout",
     "output_type": "stream",
     "text": [
      "[\u001b[1m carsus.io.nist.ionization\u001b[0m][\u001b[1;33mWARNING\u001b[0m] - Set `J=0` for ground state of species `Pr 6`. (\u001b[1mionization.py\u001b[0m:168)\n",
      "[\u001b[1m carsus.io.nist.ionization\u001b[0m][\u001b[1;33mWARNING\u001b[0m] - Set `J=0` for ground state of species `Pr 7`. (\u001b[1mionization.py\u001b[0m:168)\n",
      "[\u001b[1m carsus.io.nist.ionization\u001b[0m][\u001b[1;33mWARNING\u001b[0m] - Set `J=0` for ground state of species `Pr 8`. (\u001b[1mionization.py\u001b[0m:168)\n",
      "[\u001b[1m carsus.io.nist.ionization\u001b[0m][\u001b[1;33mWARNING\u001b[0m] - Set `J=0` for ground state of species `Pr 9`. (\u001b[1mionization.py\u001b[0m:168)\n",
      "[\u001b[1m carsus.io.nist.ionization\u001b[0m][\u001b[1;33mWARNING\u001b[0m] - Set `J=0` for ground state of species `Nd 5`. (\u001b[1mionization.py\u001b[0m:168)\n",
      "[\u001b[1m carsus.io.nist.ionization\u001b[0m][\u001b[1;33mWARNING\u001b[0m] - Set `J=0` for ground state of species `Nd 6`. (\u001b[1mionization.py\u001b[0m:168)\n",
      "[\u001b[1m carsus.io.nist.ionization\u001b[0m][\u001b[1;33mWARNING\u001b[0m] - Set `J=0` for ground state of species `Nd 7`. (\u001b[1mionization.py\u001b[0m:168)\n",
      "[\u001b[1m carsus.io.nist.ionization\u001b[0m][\u001b[1;33mWARNING\u001b[0m] - Set `J=0` for ground state of species `Nd 8`. (\u001b[1mionization.py\u001b[0m:168)\n",
      "[\u001b[1m carsus.io.nist.ionization\u001b[0m][\u001b[1;33mWARNING\u001b[0m] - Set `J=0` for ground state of species `Nd 9`. (\u001b[1mionization.py\u001b[0m:168)\n",
      "[\u001b[1m carsus.io.nist.ionization\u001b[0m][\u001b[1;33mWARNING\u001b[0m] - Set `J=0` for ground state of species `Nd 10`. (\u001b[1mionization.py\u001b[0m:168)\n",
      "[\u001b[1m carsus.io.nist.ionization\u001b[0m][\u001b[1;33mWARNING\u001b[0m] - Set `J=0` for ground state of species `Pm 5`. (\u001b[1mionization.py\u001b[0m:168)\n",
      "[\u001b[1m carsus.io.nist.ionization\u001b[0m][\u001b[1;33mWARNING\u001b[0m] - Set `J=0` for ground state of species `Pm 6`. (\u001b[1mionization.py\u001b[0m:168)\n",
      "[\u001b[1m carsus.io.nist.ionization\u001b[0m][\u001b[1;33mWARNING\u001b[0m] - Set `J=0` for ground state of species `Pm 7`. (\u001b[1mionization.py\u001b[0m:168)\n",
      "[\u001b[1m carsus.io.nist.ionization\u001b[0m][\u001b[1;33mWARNING\u001b[0m] - Set `J=0` for ground state of species `Pm 8`. (\u001b[1mionization.py\u001b[0m:168)\n",
      "[\u001b[1m carsus.io.nist.ionization\u001b[0m][\u001b[1;33mWARNING\u001b[0m] - Set `J=0` for ground state of species `Pm 9`. (\u001b[1mionization.py\u001b[0m:168)\n",
      "[\u001b[1m carsus.io.nist.ionization\u001b[0m][\u001b[1;33mWARNING\u001b[0m] - Set `J=0` for ground state of species `Pm 10`. (\u001b[1mionization.py\u001b[0m:168)\n",
      "[\u001b[1m carsus.io.nist.ionization\u001b[0m][\u001b[1;33mWARNING\u001b[0m] - Set `J=0` for ground state of species `Pm 11`. (\u001b[1mionization.py\u001b[0m:168)\n",
      "[\u001b[1m carsus.io.nist.ionization\u001b[0m][\u001b[1;33mWARNING\u001b[0m] - Set `J=0` for ground state of species `Sm 6`. (\u001b[1mionization.py\u001b[0m:168)\n",
      "[\u001b[1m carsus.io.nist.ionization\u001b[0m][\u001b[1;33mWARNING\u001b[0m] - Set `J=0` for ground state of species `Sm 7`. (\u001b[1mionization.py\u001b[0m:168)\n",
      "[\u001b[1m carsus.io.nist.ionization\u001b[0m][\u001b[1;33mWARNING\u001b[0m] - Set `J=0` for ground state of species `Sm 8`. (\u001b[1mionization.py\u001b[0m:168)\n",
      "[\u001b[1m carsus.io.nist.ionization\u001b[0m][\u001b[1;33mWARNING\u001b[0m] - Set `J=0` for ground state of species `Sm 9`. (\u001b[1mionization.py\u001b[0m:168)\n",
      "[\u001b[1m carsus.io.nist.ionization\u001b[0m][\u001b[1;33mWARNING\u001b[0m] - Set `J=0` for ground state of species `Sm 10`. (\u001b[1mionization.py\u001b[0m:168)\n",
      "[\u001b[1m carsus.io.nist.ionization\u001b[0m][\u001b[1;33mWARNING\u001b[0m] - Set `J=0` for ground state of species `Sm 11`. (\u001b[1mionization.py\u001b[0m:168)\n",
      "[\u001b[1m carsus.io.nist.ionization\u001b[0m][\u001b[1;33mWARNING\u001b[0m] - Set `J=0` for ground state of species `Sm 12`. (\u001b[1mionization.py\u001b[0m:168)\n",
      "[\u001b[1m carsus.io.nist.ionization\u001b[0m][\u001b[1;33mWARNING\u001b[0m] - Set `J=0` for ground state of species `Sm 14`. (\u001b[1mionization.py\u001b[0m:168)\n",
      "[\u001b[1m carsus.io.nist.ionization\u001b[0m][\u001b[1;33mWARNING\u001b[0m] - Set `J=0` for ground state of species `Eu 5`. (\u001b[1mionization.py\u001b[0m:168)\n",
      "[\u001b[1m carsus.io.nist.ionization\u001b[0m][\u001b[1;33mWARNING\u001b[0m] - Set `J=0` for ground state of species `Eu 6`. (\u001b[1mionization.py\u001b[0m:168)\n",
      "[\u001b[1m carsus.io.nist.ionization\u001b[0m][\u001b[1;33mWARNING\u001b[0m] - Set `J=0` for ground state of species `Eu 7`. (\u001b[1mionization.py\u001b[0m:168)\n",
      "[\u001b[1m carsus.io.nist.ionization\u001b[0m][\u001b[1;33mWARNING\u001b[0m] - Set `J=0` for ground state of species `Eu 8`. (\u001b[1mionization.py\u001b[0m:168)\n",
      "[\u001b[1m carsus.io.nist.ionization\u001b[0m][\u001b[1;33mWARNING\u001b[0m] - Set `J=0` for ground state of species `Eu 9`. (\u001b[1mionization.py\u001b[0m:168)\n",
      "[\u001b[1m carsus.io.nist.ionization\u001b[0m][\u001b[1;33mWARNING\u001b[0m] - Set `J=0` for ground state of species `Eu 10`. (\u001b[1mionization.py\u001b[0m:168)\n",
      "[\u001b[1m carsus.io.nist.ionization\u001b[0m][\u001b[1;33mWARNING\u001b[0m] - Set `J=0` for ground state of species `Eu 11`. (\u001b[1mionization.py\u001b[0m:168)\n",
      "[\u001b[1m carsus.io.nist.ionization\u001b[0m][\u001b[1;33mWARNING\u001b[0m] - Set `J=0` for ground state of species `Eu 12`. (\u001b[1mionization.py\u001b[0m:168)\n",
      "[\u001b[1m carsus.io.nist.ionization\u001b[0m][\u001b[1;33mWARNING\u001b[0m] - Set `J=0` for ground state of species `Eu 13`. (\u001b[1mionization.py\u001b[0m:168)\n",
      "[\u001b[1m carsus.io.nist.ionization\u001b[0m][\u001b[1;33mWARNING\u001b[0m] - Set `J=0` for ground state of species `Eu 14`. (\u001b[1mionization.py\u001b[0m:168)\n",
      "[\u001b[1m carsus.io.nist.ionization\u001b[0m][\u001b[1;33mWARNING\u001b[0m] - Set `J=0` for ground state of species `Gd 5`. (\u001b[1mionization.py\u001b[0m:168)\n",
      "[\u001b[1m carsus.io.nist.ionization\u001b[0m][\u001b[1;33mWARNING\u001b[0m] - Set `J=0` for ground state of species `Gd 6`. (\u001b[1mionization.py\u001b[0m:168)\n",
      "[\u001b[1m carsus.io.nist.ionization\u001b[0m][\u001b[1;33mWARNING\u001b[0m] - Set `J=0` for ground state of species `Gd 7`. (\u001b[1mionization.py\u001b[0m:168)\n",
      "[\u001b[1m carsus.io.nist.ionization\u001b[0m][\u001b[1;33mWARNING\u001b[0m] - Set `J=0` for ground state of species `Gd 8`. (\u001b[1mionization.py\u001b[0m:168)\n",
      "[\u001b[1m carsus.io.nist.ionization\u001b[0m][\u001b[1;33mWARNING\u001b[0m] - Set `J=0` for ground state of species `Gd 9`. (\u001b[1mionization.py\u001b[0m:168)\n",
      "[\u001b[1m carsus.io.nist.ionization\u001b[0m][\u001b[1;33mWARNING\u001b[0m] - Set `J=0` for ground state of species `Gd 10`. (\u001b[1mionization.py\u001b[0m:168)\n",
      "[\u001b[1m carsus.io.nist.ionization\u001b[0m][\u001b[1;33mWARNING\u001b[0m] - Set `J=0` for ground state of species `Gd 11`. (\u001b[1mionization.py\u001b[0m:168)\n",
      "[\u001b[1m carsus.io.nist.ionization\u001b[0m][\u001b[1;33mWARNING\u001b[0m] - Set `J=0` for ground state of species `Gd 12`. (\u001b[1mionization.py\u001b[0m:168)\n",
      "[\u001b[1m carsus.io.nist.ionization\u001b[0m][\u001b[1;33mWARNING\u001b[0m] - Set `J=0` for ground state of species `Gd 14`. (\u001b[1mionization.py\u001b[0m:168)\n",
      "[\u001b[1m carsus.io.nist.ionization\u001b[0m][\u001b[1;33mWARNING\u001b[0m] - Set `J=0` for ground state of species `Tb 5`. (\u001b[1mionization.py\u001b[0m:168)\n",
      "[\u001b[1m carsus.io.nist.ionization\u001b[0m][\u001b[1;33mWARNING\u001b[0m] - Set `J=0` for ground state of species `Tb 6`. (\u001b[1mionization.py\u001b[0m:168)\n",
      "[\u001b[1m carsus.io.nist.ionization\u001b[0m][\u001b[1;33mWARNING\u001b[0m] - Set `J=0` for ground state of species `Tb 7`. (\u001b[1mionization.py\u001b[0m:168)\n",
      "[\u001b[1m carsus.io.nist.ionization\u001b[0m][\u001b[1;33mWARNING\u001b[0m] - Set `J=0` for ground state of species `Tb 8`. (\u001b[1mionization.py\u001b[0m:168)\n",
      "[\u001b[1m carsus.io.nist.ionization\u001b[0m][\u001b[1;33mWARNING\u001b[0m] - Set `J=0` for ground state of species `Tb 9`. (\u001b[1mionization.py\u001b[0m:168)\n",
      "[\u001b[1m carsus.io.nist.ionization\u001b[0m][\u001b[1;33mWARNING\u001b[0m] - Set `J=0` for ground state of species `Tb 10`. (\u001b[1mionization.py\u001b[0m:168)\n",
      "[\u001b[1m carsus.io.nist.ionization\u001b[0m][\u001b[1;33mWARNING\u001b[0m] - Set `J=0` for ground state of species `Tb 11`. (\u001b[1mionization.py\u001b[0m:168)\n",
      "[\u001b[1m carsus.io.nist.ionization\u001b[0m][\u001b[1;33mWARNING\u001b[0m] - Set `J=0` for ground state of species `Tb 12`. (\u001b[1mionization.py\u001b[0m:168)\n",
      "[\u001b[1m carsus.io.nist.ionization\u001b[0m][\u001b[1;33mWARNING\u001b[0m] - Set `J=0` for ground state of species `Tb 13`. (\u001b[1mionization.py\u001b[0m:168)\n",
      "[\u001b[1m carsus.io.nist.ionization\u001b[0m][\u001b[1;33mWARNING\u001b[0m] - Set `J=0` for ground state of species `Dy 5`. (\u001b[1mionization.py\u001b[0m:168)\n",
      "[\u001b[1m carsus.io.nist.ionization\u001b[0m][\u001b[1;33mWARNING\u001b[0m] - Set `J=0` for ground state of species `Dy 6`. (\u001b[1mionization.py\u001b[0m:168)\n",
      "[\u001b[1m carsus.io.nist.ionization\u001b[0m][\u001b[1;33mWARNING\u001b[0m] - Set `J=0` for ground state of species `Dy 7`. (\u001b[1mionization.py\u001b[0m:168)\n",
      "[\u001b[1m carsus.io.nist.ionization\u001b[0m][\u001b[1;33mWARNING\u001b[0m] - Set `J=0` for ground state of species `Dy 8`. (\u001b[1mionization.py\u001b[0m:168)\n",
      "[\u001b[1m carsus.io.nist.ionization\u001b[0m][\u001b[1;33mWARNING\u001b[0m] - Set `J=0` for ground state of species `Dy 9`. (\u001b[1mionization.py\u001b[0m:168)\n",
      "[\u001b[1m carsus.io.nist.ionization\u001b[0m][\u001b[1;33mWARNING\u001b[0m] - Set `J=0` for ground state of species `Dy 10`. (\u001b[1mionization.py\u001b[0m:168)\n",
      "[\u001b[1m carsus.io.nist.ionization\u001b[0m][\u001b[1;33mWARNING\u001b[0m] - Set `J=0` for ground state of species `Dy 11`. (\u001b[1mionization.py\u001b[0m:168)\n",
      "[\u001b[1m carsus.io.nist.ionization\u001b[0m][\u001b[1;33mWARNING\u001b[0m] - Set `J=0` for ground state of species `Dy 12`. (\u001b[1mionization.py\u001b[0m:168)\n",
      "[\u001b[1m carsus.io.nist.ionization\u001b[0m][\u001b[1;33mWARNING\u001b[0m] - Set `J=0` for ground state of species `Dy 13`. (\u001b[1mionization.py\u001b[0m:168)\n"
     ]
    },
    {
     "name": "stdout",
     "output_type": "stream",
     "text": [
      "[\u001b[1m carsus.io.nist.ionization\u001b[0m][\u001b[1;33mWARNING\u001b[0m] - Set `J=0` for ground state of species `Dy 14`. (\u001b[1mionization.py\u001b[0m:168)\n",
      "[\u001b[1m carsus.io.nist.ionization\u001b[0m][\u001b[1;33mWARNING\u001b[0m] - Set `J=0` for ground state of species `Ho 5`. (\u001b[1mionization.py\u001b[0m:168)\n",
      "[\u001b[1m carsus.io.nist.ionization\u001b[0m][\u001b[1;33mWARNING\u001b[0m] - Set `J=0` for ground state of species `Ho 6`. (\u001b[1mionization.py\u001b[0m:168)\n",
      "[\u001b[1m carsus.io.nist.ionization\u001b[0m][\u001b[1;33mWARNING\u001b[0m] - Set `J=0` for ground state of species `Ho 7`. (\u001b[1mionization.py\u001b[0m:168)\n",
      "[\u001b[1m carsus.io.nist.ionization\u001b[0m][\u001b[1;33mWARNING\u001b[0m] - Set `J=0` for ground state of species `Ho 8`. (\u001b[1mionization.py\u001b[0m:168)\n",
      "[\u001b[1m carsus.io.nist.ionization\u001b[0m][\u001b[1;33mWARNING\u001b[0m] - Set `J=0` for ground state of species `Ho 9`. (\u001b[1mionization.py\u001b[0m:168)\n",
      "[\u001b[1m carsus.io.nist.ionization\u001b[0m][\u001b[1;33mWARNING\u001b[0m] - Set `J=0` for ground state of species `Ho 10`. (\u001b[1mionization.py\u001b[0m:168)\n",
      "[\u001b[1m carsus.io.nist.ionization\u001b[0m][\u001b[1;33mWARNING\u001b[0m] - Set `J=0` for ground state of species `Ho 11`. (\u001b[1mionization.py\u001b[0m:168)\n",
      "[\u001b[1m carsus.io.nist.ionization\u001b[0m][\u001b[1;33mWARNING\u001b[0m] - Set `J=0` for ground state of species `Ho 12`. (\u001b[1mionization.py\u001b[0m:168)\n",
      "[\u001b[1m carsus.io.nist.ionization\u001b[0m][\u001b[1;33mWARNING\u001b[0m] - Set `J=0` for ground state of species `Ho 13`. (\u001b[1mionization.py\u001b[0m:168)\n",
      "[\u001b[1m carsus.io.nist.ionization\u001b[0m][\u001b[1;33mWARNING\u001b[0m] - Set `J=0` for ground state of species `Ho 14`. (\u001b[1mionization.py\u001b[0m:168)\n",
      "[\u001b[1m carsus.io.nist.ionization\u001b[0m][\u001b[1;33mWARNING\u001b[0m] - Set `J=0` for ground state of species `Ho 15`. (\u001b[1mionization.py\u001b[0m:168)\n",
      "[\u001b[1m carsus.io.nist.ionization\u001b[0m][\u001b[1;33mWARNING\u001b[0m] - Set `J=0` for ground state of species `Er 5`. (\u001b[1mionization.py\u001b[0m:168)\n",
      "[\u001b[1m carsus.io.nist.ionization\u001b[0m][\u001b[1;33mWARNING\u001b[0m] - Set `J=0` for ground state of species `Er 6`. (\u001b[1mionization.py\u001b[0m:168)\n",
      "[\u001b[1m carsus.io.nist.ionization\u001b[0m][\u001b[1;33mWARNING\u001b[0m] - Set `J=0` for ground state of species `Er 7`. (\u001b[1mionization.py\u001b[0m:168)\n",
      "[\u001b[1m carsus.io.nist.ionization\u001b[0m][\u001b[1;33mWARNING\u001b[0m] - Set `J=0` for ground state of species `Er 8`. (\u001b[1mionization.py\u001b[0m:168)\n",
      "[\u001b[1m carsus.io.nist.ionization\u001b[0m][\u001b[1;33mWARNING\u001b[0m] - Set `J=0` for ground state of species `Er 9`. (\u001b[1mionization.py\u001b[0m:168)\n",
      "[\u001b[1m carsus.io.nist.ionization\u001b[0m][\u001b[1;33mWARNING\u001b[0m] - Set `J=0` for ground state of species `Er 10`. (\u001b[1mionization.py\u001b[0m:168)\n",
      "[\u001b[1m carsus.io.nist.ionization\u001b[0m][\u001b[1;33mWARNING\u001b[0m] - Set `J=0` for ground state of species `Er 11`. (\u001b[1mionization.py\u001b[0m:168)\n",
      "[\u001b[1m carsus.io.nist.ionization\u001b[0m][\u001b[1;33mWARNING\u001b[0m] - Set `J=0` for ground state of species `Er 12`. (\u001b[1mionization.py\u001b[0m:168)\n",
      "[\u001b[1m carsus.io.nist.ionization\u001b[0m][\u001b[1;33mWARNING\u001b[0m] - Set `J=0` for ground state of species `Er 13`. (\u001b[1mionization.py\u001b[0m:168)\n",
      "[\u001b[1m carsus.io.nist.ionization\u001b[0m][\u001b[1;33mWARNING\u001b[0m] - Set `J=0` for ground state of species `Er 14`. (\u001b[1mionization.py\u001b[0m:168)\n",
      "[\u001b[1m carsus.io.nist.ionization\u001b[0m][\u001b[1;33mWARNING\u001b[0m] - Set `J=0` for ground state of species `Tm 6`. (\u001b[1mionization.py\u001b[0m:168)\n",
      "[\u001b[1m carsus.io.nist.ionization\u001b[0m][\u001b[1;33mWARNING\u001b[0m] - Set `J=0` for ground state of species `Tm 7`. (\u001b[1mionization.py\u001b[0m:168)\n",
      "[\u001b[1m carsus.io.nist.ionization\u001b[0m][\u001b[1;33mWARNING\u001b[0m] - Set `J=0` for ground state of species `Tm 8`. (\u001b[1mionization.py\u001b[0m:168)\n",
      "[\u001b[1m carsus.io.nist.ionization\u001b[0m][\u001b[1;33mWARNING\u001b[0m] - Set `J=0` for ground state of species `Tm 9`. (\u001b[1mionization.py\u001b[0m:168)\n",
      "[\u001b[1m carsus.io.nist.ionization\u001b[0m][\u001b[1;33mWARNING\u001b[0m] - Set `J=0` for ground state of species `Tm 11`. (\u001b[1mionization.py\u001b[0m:168)\n",
      "[\u001b[1m carsus.io.nist.ionization\u001b[0m][\u001b[1;33mWARNING\u001b[0m] - Set `J=0` for ground state of species `Tm 12`. (\u001b[1mionization.py\u001b[0m:168)\n",
      "[\u001b[1m carsus.io.nist.ionization\u001b[0m][\u001b[1;33mWARNING\u001b[0m] - Set `J=0` for ground state of species `Tm 13`. (\u001b[1mionization.py\u001b[0m:168)\n",
      "[\u001b[1m carsus.io.nist.ionization\u001b[0m][\u001b[1;33mWARNING\u001b[0m] - Set `J=0` for ground state of species `Yb 5`. (\u001b[1mionization.py\u001b[0m:168)\n",
      "[\u001b[1m carsus.io.nist.ionization\u001b[0m][\u001b[1;33mWARNING\u001b[0m] - Set `J=0` for ground state of species `Yb 6`. (\u001b[1mionization.py\u001b[0m:168)\n",
      "[\u001b[1m carsus.io.nist.ionization\u001b[0m][\u001b[1;33mWARNING\u001b[0m] - Set `J=0` for ground state of species `Yb 7`. (\u001b[1mionization.py\u001b[0m:168)\n",
      "[\u001b[1m carsus.io.nist.ionization\u001b[0m][\u001b[1;33mWARNING\u001b[0m] - Set `J=0` for ground state of species `Yb 8`. (\u001b[1mionization.py\u001b[0m:168)\n",
      "[\u001b[1m carsus.io.nist.ionization\u001b[0m][\u001b[1;33mWARNING\u001b[0m] - Set `J=0` for ground state of species `Yb 9`. (\u001b[1mionization.py\u001b[0m:168)\n",
      "[\u001b[1m carsus.io.nist.ionization\u001b[0m][\u001b[1;33mWARNING\u001b[0m] - Set `J=0` for ground state of species `Yb 12`. (\u001b[1mionization.py\u001b[0m:168)\n",
      "[\u001b[1m carsus.io.nist.ionization\u001b[0m][\u001b[1;33mWARNING\u001b[0m] - Set `J=0` for ground state of species `Yb 13`. (\u001b[1mionization.py\u001b[0m:168)\n",
      "[\u001b[1m carsus.io.nist.ionization\u001b[0m][\u001b[1;33mWARNING\u001b[0m] - Set `J=0` for ground state of species `Yb 14`. (\u001b[1mionization.py\u001b[0m:168)\n",
      "[\u001b[1m carsus.io.nist.ionization\u001b[0m][\u001b[1;33mWARNING\u001b[0m] - Set `J=0` for ground state of species `Lu 6`. (\u001b[1mionization.py\u001b[0m:168)\n",
      "[\u001b[1m carsus.io.nist.ionization\u001b[0m][\u001b[1;33mWARNING\u001b[0m] - Set `J=0` for ground state of species `Lu 7`. (\u001b[1mionization.py\u001b[0m:168)\n",
      "[\u001b[1m carsus.io.nist.ionization\u001b[0m][\u001b[1;33mWARNING\u001b[0m] - Set `J=0` for ground state of species `Lu 9`. (\u001b[1mionization.py\u001b[0m:168)\n",
      "[\u001b[1m carsus.io.nist.ionization\u001b[0m][\u001b[1;33mWARNING\u001b[0m] - Set `J=0` for ground state of species `Lu 10`. (\u001b[1mionization.py\u001b[0m:168)\n",
      "[\u001b[1m carsus.io.nist.ionization\u001b[0m][\u001b[1;33mWARNING\u001b[0m] - Set `J=0` for ground state of species `Lu 13`. (\u001b[1mionization.py\u001b[0m:168)\n",
      "[\u001b[1m carsus.io.nist.ionization\u001b[0m][\u001b[1;33mWARNING\u001b[0m] - Set `J=0` for ground state of species `Lu 14`. (\u001b[1mionization.py\u001b[0m:168)\n",
      "[\u001b[1m carsus.io.nist.ionization\u001b[0m][\u001b[1;33mWARNING\u001b[0m] - Set `J=0` for ground state of species `Lu 15`. (\u001b[1mionization.py\u001b[0m:168)\n",
      "[\u001b[1m carsus.io.nist.ionization\u001b[0m][\u001b[1;33mWARNING\u001b[0m] - Set `J=0` for ground state of species `Hf 6`. (\u001b[1mionization.py\u001b[0m:168)\n",
      "[\u001b[1m carsus.io.nist.ionization\u001b[0m][\u001b[1;33mWARNING\u001b[0m] - Set `J=0` for ground state of species `Hf 7`. (\u001b[1mionization.py\u001b[0m:168)\n",
      "[\u001b[1m carsus.io.nist.ionization\u001b[0m][\u001b[1;33mWARNING\u001b[0m] - Set `J=0` for ground state of species `Hf 8`. (\u001b[1mionization.py\u001b[0m:168)\n",
      "[\u001b[1m carsus.io.nist.ionization\u001b[0m][\u001b[1;33mWARNING\u001b[0m] - Set `J=0` for ground state of species `Hf 10`. (\u001b[1mionization.py\u001b[0m:168)\n",
      "[\u001b[1m carsus.io.nist.ionization\u001b[0m][\u001b[1;33mWARNING\u001b[0m] - Set `J=0` for ground state of species `Hf 11`. (\u001b[1mionization.py\u001b[0m:168)\n",
      "[\u001b[1m carsus.io.nist.ionization\u001b[0m][\u001b[1;33mWARNING\u001b[0m] - Set `J=0` for ground state of species `Hf 15`. (\u001b[1mionization.py\u001b[0m:168)\n",
      "[\u001b[1m carsus.io.nist.ionization\u001b[0m][\u001b[1;33mWARNING\u001b[0m] - Set `J=0` for ground state of species `Hf 16`. (\u001b[1mionization.py\u001b[0m:168)\n",
      "[\u001b[1m carsus.io.nist.ionization\u001b[0m][\u001b[1;33mWARNING\u001b[0m] - Set `J=0` for ground state of species `Ta 7`. (\u001b[1mionization.py\u001b[0m:168)\n",
      "[\u001b[1m carsus.io.nist.ionization\u001b[0m][\u001b[1;33mWARNING\u001b[0m] - Set `J=0` for ground state of species `Ta 8`. (\u001b[1mionization.py\u001b[0m:168)\n",
      "[\u001b[1m carsus.io.nist.ionization\u001b[0m][\u001b[1;33mWARNING\u001b[0m] - Set `J=0` for ground state of species `Ta 9`. (\u001b[1mionization.py\u001b[0m:168)\n",
      "[\u001b[1m carsus.io.nist.ionization\u001b[0m][\u001b[1;33mWARNING\u001b[0m] - Set `J=0` for ground state of species `Ta 11`. (\u001b[1mionization.py\u001b[0m:168)\n",
      "[\u001b[1m carsus.io.nist.ionization\u001b[0m][\u001b[1;33mWARNING\u001b[0m] - Set `J=0` for ground state of species `Ta 16`. (\u001b[1mionization.py\u001b[0m:168)\n",
      "[\u001b[1m carsus.io.nist.ionization\u001b[0m][\u001b[1;33mWARNING\u001b[0m] - Set `J=0` for ground state of species `Ta 17`. (\u001b[1mionization.py\u001b[0m:168)\n",
      "[\u001b[1m carsus.io.nist.ionization\u001b[0m][\u001b[1;33mWARNING\u001b[0m] - Set `J=0` for ground state of species `Re 13`. (\u001b[1mionization.py\u001b[0m:168)\n",
      "[\u001b[1m carsus.io.nist.ionization\u001b[0m][\u001b[1;33mWARNING\u001b[0m] - Set `J=0` for ground state of species `Re 17`. (\u001b[1mionization.py\u001b[0m:168)\n",
      "[\u001b[1m carsus.io.nist.ionization\u001b[0m][\u001b[1;33mWARNING\u001b[0m] - Set `J=0` for ground state of species `Os 14`. (\u001b[1mionization.py\u001b[0m:168)\n",
      "[\u001b[1m carsus.io.nist.ionization\u001b[0m][\u001b[1;33mWARNING\u001b[0m] - Set `J=0` for ground state of species `Os 17`. (\u001b[1mionization.py\u001b[0m:168)\n",
      "[\u001b[1m carsus.io.nist.ionization\u001b[0m][\u001b[1;33mWARNING\u001b[0m] - Set `J=0` for ground state of species `Os 18`. (\u001b[1mionization.py\u001b[0m:168)\n"
     ]
    },
    {
     "name": "stdout",
     "output_type": "stream",
     "text": [
      "[\u001b[1m carsus.io.nist.ionization\u001b[0m][\u001b[1;33mWARNING\u001b[0m] - Set `J=0` for ground state of species `Ir 18`. (\u001b[1mionization.py\u001b[0m:168)\n",
      "[\u001b[1m carsus.io.nist.ionization\u001b[0m][\u001b[1;33mWARNING\u001b[0m] - Set `J=0` for ground state of species `Ir 19`. (\u001b[1mionization.py\u001b[0m:168)\n",
      "[\u001b[1m carsus.io.nist.ionization\u001b[0m][\u001b[1;33mWARNING\u001b[0m] - Set `J=0` for ground state of species `Pt 19`. (\u001b[1mionization.py\u001b[0m:168)\n",
      "[\u001b[1m carsus.io.nist.ionization\u001b[0m][\u001b[1;33mWARNING\u001b[0m] - Set `J=0` for ground state of species `Pt 20`. (\u001b[1mionization.py\u001b[0m:168)\n",
      "[\u001b[1m carsus.io.nist.ionization\u001b[0m][\u001b[1;33mWARNING\u001b[0m] - Set `J=0` for ground state of species `Au 20`. (\u001b[1mionization.py\u001b[0m:168)\n",
      "[\u001b[1m carsus.io.nist.ionization\u001b[0m][\u001b[1;33mWARNING\u001b[0m] - Set `J=0` for ground state of species `Au 21`. (\u001b[1mionization.py\u001b[0m:168)\n",
      "[\u001b[1m carsus.io.nist.ionization\u001b[0m][\u001b[1;33mWARNING\u001b[0m] - Set `J=0` for ground state of species `Hg 20`. (\u001b[1mionization.py\u001b[0m:168)\n",
      "[\u001b[1m carsus.io.nist.ionization\u001b[0m][\u001b[1;33mWARNING\u001b[0m] - Set `J=0` for ground state of species `Hg 22`. (\u001b[1mionization.py\u001b[0m:168)\n",
      "[\u001b[1m carsus.io.nist.ionization\u001b[0m][\u001b[1;33mWARNING\u001b[0m] - Set `J=0` for ground state of species `Tl 21`. (\u001b[1mionization.py\u001b[0m:168)\n",
      "[\u001b[1m carsus.io.nist.ionization\u001b[0m][\u001b[1;33mWARNING\u001b[0m] - Set `J=0` for ground state of species `Tl 23`. (\u001b[1mionization.py\u001b[0m:168)\n",
      "[\u001b[1m carsus.io.nist.ionization\u001b[0m][\u001b[1;33mWARNING\u001b[0m] - Set `J=0` for ground state of species `Pb 22`. (\u001b[1mionization.py\u001b[0m:168)\n",
      "[\u001b[1m carsus.io.nist.ionization\u001b[0m][\u001b[1;33mWARNING\u001b[0m] - Set `J=0` for ground state of species `Pb 24`. (\u001b[1mionization.py\u001b[0m:168)\n",
      "[\u001b[1m carsus.io.nist.ionization\u001b[0m][\u001b[1;33mWARNING\u001b[0m] - Set `J=0` for ground state of species `Bi 23`. (\u001b[1mionization.py\u001b[0m:168)\n",
      "[\u001b[1m carsus.io.nist.ionization\u001b[0m][\u001b[1;33mWARNING\u001b[0m] - Set `J=0` for ground state of species `Bi 25`. (\u001b[1mionization.py\u001b[0m:168)\n",
      "[\u001b[1m carsus.io.nist.ionization\u001b[0m][\u001b[1;33mWARNING\u001b[0m] - Set `J=0` for ground state of species `Po 26`. (\u001b[1mionization.py\u001b[0m:168)\n",
      "[\u001b[1m carsus.io.nist.ionization\u001b[0m][\u001b[1;33mWARNING\u001b[0m] - Set `J=0` for ground state of species `At 27`. (\u001b[1mionization.py\u001b[0m:168)\n",
      "[\u001b[1m carsus.io.nist.ionization\u001b[0m][\u001b[1;33mWARNING\u001b[0m] - Set `J=0` for ground state of species `Rn 28`. (\u001b[1mionization.py\u001b[0m:168)\n",
      "[\u001b[1m carsus.io.nist.ionization\u001b[0m][\u001b[1;33mWARNING\u001b[0m] - Set `J=0` for ground state of species `Fr 29`. (\u001b[1mionization.py\u001b[0m:168)\n",
      "[\u001b[1m carsus.io.nist.ionization\u001b[0m][\u001b[1;33mWARNING\u001b[0m] - Set `J=0` for ground state of species `Ra 30`. (\u001b[1mionization.py\u001b[0m:168)\n",
      "[\u001b[1m carsus.io.nist.ionization\u001b[0m][\u001b[1;33mWARNING\u001b[0m] - Set `J=0` for ground state of species `Ac 31`. (\u001b[1mionization.py\u001b[0m:168)\n",
      "[\u001b[1m carsus.io.nist.ionization\u001b[0m][\u001b[1;33mWARNING\u001b[0m] - Set `J=0` for ground state of species `Th 32`. (\u001b[1mionization.py\u001b[0m:168)\n",
      "[\u001b[1m carsus.io.nist.ionization\u001b[0m][\u001b[1;33mWARNING\u001b[0m] - Set `J=0` for ground state of species `Pa 33`. (\u001b[1mionization.py\u001b[0m:168)\n",
      "[\u001b[1m carsus.io.nist.ionization\u001b[0m][\u001b[1;33mWARNING\u001b[0m] - Set `J=0` for ground state of species `U 34`. (\u001b[1mionization.py\u001b[0m:168)\n",
      "[\u001b[1m    carsus.io.kurucz.gfall\u001b[0m][\u001b[1;37mINFO\u001b[0m] - Parsing GFALL: http://kurucz.harvard.edu/linelists/gfall/gfall.dat (\u001b[1mgfall.py\u001b[0m:139)\n",
      "[\u001b[1m     carsus.io.output.base\u001b[0m][\u001b[1;37mINFO\u001b[0m] - Ingesting levels from Chianti. (\u001b[1mbase.py\u001b[0m:255)\n",
      "[\u001b[1m     carsus.io.output.base\u001b[0m][\u001b[1;37mINFO\u001b[0m] - Ingesting lines from GFALL. (\u001b[1mbase.py\u001b[0m:327)\n",
      "[\u001b[1m    carsus.io.kurucz.gfall\u001b[0m][\u001b[1;37mINFO\u001b[0m] - Extracting line data: atomic_number, ion_charge, energy_lower, j_lower, energy_upper, j_upper, wavelength, loggf. (\u001b[1mgfall.py\u001b[0m:343)\n",
      "[\u001b[1m               py.warnings\u001b[0m][\u001b[1;33mWARNING\u001b[0m] - /home/katrine/anaconda3/envs/carsus/lib/python3.6/site-packages/carsus-0.1.dev637-py3.6.egg/carsus/io/output/base.py:121: PerformanceWarning: indexing past lexsort depth may impact performance.\n",
      "  ['atomic_number', 'ion_number']).loc[ion]\n",
      " (\u001b[1mwarnings.py\u001b[0m:99)\n",
      "[\u001b[1m     carsus.io.output.base\u001b[0m][\u001b[1;37mINFO\u001b[0m] - Ingesting lines from Chianti. (\u001b[1mbase.py\u001b[0m:352)\n",
      "[\u001b[1m               py.warnings\u001b[0m][\u001b[1;33mWARNING\u001b[0m] - /home/katrine/anaconda3/envs/carsus/lib/python3.6/site-packages/carsus-0.1.dev637-py3.6.egg/carsus/io/output/base.py:356: SettingWithCopyWarning: \n",
      "A value is trying to be set on a copy of a slice from a DataFrame.\n",
      "Try using .loc[row_indexer,col_indexer] = value instead\n",
      "\n",
      "See the caveats in the documentation: https://pandas.pydata.org/pandas-docs/stable/user_guide/indexing.html#returning-a-view-versus-a-copy\n",
      "  df['line_id'] = range(start, len(df) + start)\n",
      " (\u001b[1mwarnings.py\u001b[0m:99)\n",
      "[\u001b[1m     carsus.io.output.base\u001b[0m][\u001b[1;37mINFO\u001b[0m] - Ingesting collisions from Chianti (\u001b[1mbase.py\u001b[0m:499)\n"
     ]
    }
   ],
   "source": [
    "atom_data = TARDISAtomData(atomic_weights,\n",
    "                           ionization_energies,\n",
    "                           gfall_reader,\n",
    "                           zeta_data,\n",
    "                           chianti_reader)"
   ]
  },
  {
   "cell_type": "raw",
   "metadata": {},
   "source": []
  },
  {
   "cell_type": "code",
   "execution_count": 7,
   "metadata": {},
   "outputs": [
    {
     "name": "stdout",
     "output_type": "stream",
     "text": [
      "[\u001b[1m     carsus.io.output.base\u001b[0m][\u001b[1;37mINFO\u001b[0m] - Signing TARDISAtomData. (\u001b[1mbase.py\u001b[0m:840)\n",
      "[\u001b[1m     carsus.io.output.base\u001b[0m][\u001b[1;37mINFO\u001b[0m] - MD5: 1cef3835134b5ca0edc06f901b3547da (\u001b[1mbase.py\u001b[0m:841)\n",
      "[\u001b[1m     carsus.io.output.base\u001b[0m][\u001b[1;37mINFO\u001b[0m] - UUID1: d6edf9543afc11eb9aa6484520e23618 (\u001b[1mbase.py\u001b[0m:842)\n"
     ]
    }
   ],
   "source": [
    "atom_data.to_hdf('tardis_df_Ta.h5')"
   ]
  }
 ],
 "metadata": {
  "kernelspec": {
   "display_name": "Python 3",
   "language": "python",
   "name": "python3"
  },
  "language_info": {
   "codemirror_mode": {
    "name": "ipython",
    "version": 3
   },
   "file_extension": ".py",
   "mimetype": "text/x-python",
   "name": "python",
   "nbconvert_exporter": "python",
   "pygments_lexer": "ipython3",
   "version": "3.6.11"
  }
 },
 "nbformat": 4,
 "nbformat_minor": 4
}
